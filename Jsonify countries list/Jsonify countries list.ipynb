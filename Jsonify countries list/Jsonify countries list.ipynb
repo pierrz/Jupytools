{
 "cells": [
  {
   "cell_type": "code",
   "execution_count": 33,
   "metadata": {},
   "outputs": [
    {
     "name": "stdout",
     "output_type": "stream",
     "text": [
      "{'countries_list': [('Abu Dhabi', 'Abu Dhabi'), ('Abu Zaby', 'Abu Zaby'), ('Aden', 'Aden'), ('Aden (Protectorate)', 'Aden (Protectorate)'), ('Admiralty Islands', 'Admiralty Islands'), ('Aegean Islands', 'Aegean Islands'), ('Afars', 'Afars'), ('Agalega Islands', 'Agalega Islands'), ('Agrihan Island', 'Agrihan Island'), ('Aguijan Island', 'Aguijan Island'), ('Ahvenanmaa', 'Ahvenanmaa'), ('Ailinglapalap Atoll', 'Ailinglapalap Atoll'), ('Ajman', 'Ajman'), ('Alamagan Island', 'Alamagan Island'), ('&Aring;land Islands', '&Aring;land Islands'), ('Aldabra Islands', 'Aldabra Islands'), ('Alderney', 'Alderney'), ('Alofi', 'Alofi'), ('Alphonse Island', 'Alphonse Island'), ('Amindivi Islands', 'Amindivi Islands'), ('Amirante Isles', 'Amirante Isles'), ('Amsterdam Island', 'Amsterdam Island'), ('Anatahan Island', 'Anatahan Island'), ('Andaman Islands', 'Andaman Islands'), ('Anegada', 'Anegada'), ('Angaur Island', 'Angaur Island'), ('Anjouan Island', 'Anjouan Island'), ('Annob&oacute;n', 'Annob&oacute;n'), ('Antigua', 'Antigua'), ('Arab Republic of Egypt', 'Arab Republic of Egypt'), ('Arab Republic of Yemen', 'Arab Republic of Yemen'), ('Archipi&eacute;lago de Col&oacute;n', 'Archipi&eacute;lago de Col&oacute;n'), ('Arno (Atoll)', 'Arno (Atoll)'), ('Arquip&eacute;lago dos Bijag&oacute;s', 'Arquip&eacute;lago dos Bijag&oacute;s'), ('Ascension Island (Atlantic Ocean)', 'Ascension Island (Atlantic Ocean)'), ('Ascension Island (Micronesia)', 'Ascension Island (Micronesia)'), ('Ashanti', 'Ashanti'), ('Ashmore and Cartier Islands', 'Ashmore and Cartier Islands'), ('Asuncion Island', 'Asuncion Island'), ('Atafu Atoll', 'Atafu Atoll'), ('Atauro, Ilha de', 'Atauro, Ilha de'), ('Austral Islands', 'Austral Islands'), ('Azerbaijan S.S.R.', 'Azerbaijan S.S.R.'), ('Azores', 'Azores'), ('Babelthuap Island', 'Babelthuap Island'), ('Bahrein', 'Bahrein'), ('Baker Island', 'Baker Island'), ('Balearic Islands', 'Balearic Islands'), ('Banaba', 'Banaba'), ('Banks Islands', 'Banks Islands'), ('Barbuda', 'Barbuda'), ('Bassas da India', 'Bassas da India'), ('Basse-Terre', 'Basse-Terre'), ('Basutoland', 'Basutoland'), ('Bear Island', 'Bear Island'), ('Bechuanaland', 'Bechuanaland'), ('Belau', 'Belau'), ('Belep Islands', 'Belep Islands'), ('Belgian Congo', 'Belgian Congo'), ('Belorussian S.S.R.', 'Belorussian S.S.R.'), ('Berlin, East', 'Berlin, East'), ('Berlin, West', 'Berlin, West'), ('BES Islands', 'BES Islands'), ('Bijag&oacute;s, Arquip&eacute;lago dos', 'Bijag&oacute;s, Arquip&eacute;lago dos'), ('Bijoutier Island', 'Bijoutier Island'), ('Bikini (Atoll)', 'Bikini (Atoll)'), ('Bioko', 'Bioko'), ('Birnie Island', 'Birnie Island'), ('Bismarck Archipelago', 'Bismarck Archipelago'), ('Bissagos Islands', 'Bissagos Islands'), ('Boa Vista', 'Boa Vista'), ('Bonaire', 'Bonaire'), ('Bonaire (Netherlands Antilles)', 'Bonaire (Netherlands Antilles)'), ('Bonaire, Saint Eustatius, and Saba', 'Bonaire, Saint Eustatius, and Saba'), ('Bonin Islands', 'Bonin Islands'), ('Bophuthatswana', 'Bophuthatswana'), ('Borneo, North', 'Borneo, North'), ('Bornholm Island', 'Bornholm Island'), ('Bosnia and Hercegovina', 'Bosnia and Hercegovina'), ('Brava', 'Brava'), ('Brechou', 'Brechou'), ('Brecqhou', 'Brecqhou'), ('British Cameroons', 'British Cameroons'), ('British Cameroons, Northern', 'British Cameroons, Northern'), ('British Guiana', 'British Guiana'), ('British Honduras', 'British Honduras'), ('British Solomon Islands', 'British Solomon Islands'), ('Byelarus', 'Byelarus'), ('Byelorussian S.S.R.', 'Byelorussian S.S.R.'), ('Cabinda', 'Cabinda'), ('Caicos Islands', 'Caicos Islands'), ('Canal Zone', 'Canal Zone'), ('Canary Islands', 'Canary Islands'), ('Canton Island', 'Canton Island'), ('Cape Verde', 'Cape Verde'), ('Cargados Carajos Shoals', 'Cargados Carajos Shoals'), ('Caroline Island', 'Caroline Island'), ('Cayman Brac Island', 'Cayman Brac Island'), ('Central African Empire', 'Central African Empire'), ('Central and Southern Line Islands', 'Central and Southern Line Islands'), ('Ceuta', 'Ceuta'), ('Ceylon', 'Ceylon'), ('Chafarinas, Islas', 'Chafarinas, Islas'), ('Chagos Archipelago', 'Chagos Archipelago'), ('Channel Islands', 'Channel Islands'), ('Chatham Islands', 'Chatham Islands'), ('Chesterfield, Iles', 'Chesterfield, Iles'), ('Choiseul', 'Choiseul'), ('Christmas Atoll', 'Christmas Atoll'), ('Ciskei', 'Ciskei'), ('Clipperton Island', 'Clipperton Island'), ('Cocos Island', 'Cocos Island'), ('Collectivity of Saint Martin', 'Collectivity of Saint Martin'), ('Col&oacute;n, Archipi&eacute;lago de', 'Col&oacute;n, Archipi&eacute;lago de'), ('Colony of the Virgin Islands', 'Colony of the Virgin Islands'), ('Comino Island', 'Comino Island'), ('Comores', 'Comores'), ('Congo (Kinshasa)', 'Congo (Kinshasa)'), ('Corisco Island', 'Corisco Island'), ('Corn Islands', 'Corn Islands'), ('Corsica', 'Corsica'), ('Cosmoledo Islands', 'Cosmoledo Islands'), ('Crete', 'Crete'), ('Crozet Island', 'Crozet Island'), ('Cura&ccedil;ao (Netherlands Antilles)', 'Cura&ccedil;ao (Netherlands Antilles)'), ('Czechoslovakia', 'Czechoslovakia'), ('Dahomey', 'Dahomey'), ('Daitojima', 'Daitojima'), ('Daman', 'Daman'), ('Danger Atoll', 'Danger Atoll'), ('Democratic Kampuchea', 'Democratic Kampuchea'), (\"Democratic People's Republic of Korea\", \"Democratic People's Republic of Korea\"), (\"Democratic People's Republic of Vietnam\", \"Democratic People's Republic of Vietnam\"), ('Democratic Republic of the Congo', 'Democratic Republic of the Congo'), (\"D'Entrecasteaux Islands\", \"D'Entrecasteaux Islands\"), ('Desroches, Ile', 'Desroches, Ile'), ('Diego Garcia Island', 'Diego Garcia Island'), ('Diu', 'Diu'), ('Dodecanese', 'Dodecanese'), ('Dubai', 'Dubai'), ('Dubayy', 'Dubayy'), ('Ducie Atoll', 'Ducie Atoll'), ('Dutch Caribbean', 'Dutch Caribbean'), ('Dutch Guiana', 'Dutch Guiana'), ('East Berlin', 'East Berlin'), ('East Cameroon', 'East Cameroon'), ('East Falkland Island', 'East Falkland Island'), ('East Pakistan', 'East Pakistan'), ('East Timor', 'East Timor'), ('Easter Island', 'Easter Island'), ('Eastern Samoa', 'Eastern Samoa'), ('Eauripik Atoll', 'Eauripik Atoll'), ('Ebon Atoll', 'Ebon Atoll'), ('Eire', 'Eire'), ('Ellice Islands', 'Ellice Islands'), ('Elobey, Great', 'Elobey, Great'), ('Elobey, Small', 'Elobey, Small'), ('Enderbury Island', 'Enderbury Island'), ('Eniwetok Atoll', 'Eniwetok Atoll'), ('Europa, Ile', 'Europa, Ile'), ('F&aelig;roe Islands', 'F&aelig;roe Islands'), ('Fais Island', 'Fais Island'), ('Fakaofu Atoll', 'Fakaofu Atoll'), ('Fanning Atoll', 'Fanning Atoll'), ('Farallon de Medinilla Island', 'Farallon de Medinilla Island'), ('Farallon de Pajaros Island', 'Farallon de Pajaros Island'), ('Faraulep Atoll', 'Faraulep Atoll'), ('Farquhar Atoll', 'Farquhar Atoll'), ('Federated States of Micronesia', 'Federated States of Micronesia'), ('Federation of South Arabia', 'Federation of South Arabia'), ('Fernando de Noronha', 'Fernando de Noronha'), ('Fernando Po Island', 'Fernando Po Island'), ('Flint Island', 'Flint Island'), ('Fogo', 'Fogo'), ('Formosa Island', 'Formosa Island'), ('Fran&ccedil;ois Island', 'Fran&ccedil;ois Island'), ('Franz Josef Land', 'Franz Josef Land'), ('French Cameroons', 'French Cameroons'), ('French Guinea', 'French Guinea'), ('French Morocco', 'French Morocco'), ('French Somaliland', 'French Somaliland'), ('French Southern and Antarctic Lands', 'French Southern and Antarctic Lands'), ('French Sudan', 'French Sudan'), ('French Territory of the Afars and Issas', 'French Territory of the Afars and Issas'), ('Friendly Islands', 'Friendly Islands'), ('Fujairah', 'Fujairah'), ('Fujayrah', 'Fujayrah'), ('Funafuti Atoll', 'Funafuti Atoll'), ('Futuna', 'Futuna'), ('Gaferut Island', 'Gaferut Island'), ('Galapagos Islands', 'Galapagos Islands'), ('Gambier Islands', 'Gambier Islands'), ('Gardner Atoll', 'Gardner Atoll'), ('Georgian S.S.R.', 'Georgian S.S.R.'), ('German Cameroons', 'German Cameroons'), ('Germany (East)', 'Germany (East)'), ('Germany (West)', 'Germany (West)'), ('Germany, Democratic Republic of', 'Germany, Democratic Republic of'), ('Germany, Federal Republic of', 'Germany, Federal Republic of'), ('Gilbert and Ellice Islands', 'Gilbert and Ellice Islands'), ('Gilbert Islands', 'Gilbert Islands'), ('Glorieuses, Iles', 'Glorieuses, Iles'), ('Goa', 'Goa'), ('Gold Coast', 'Gold Coast'), ('Gough Island', 'Gough Island'), ('Gozo Island', 'Gozo Island'), ('Grand Cayman Island', 'Grand Cayman Island'), ('Grande Comore Island', 'Grande Comore Island'), ('Grande-Terre', 'Grande-Terre'), ('Great Britain', 'Great Britain'), ('Grenadine Islands, Northern', 'Grenadine Islands, Northern'), ('Grenadine Islands, Southern', 'Grenadine Islands, Southern'), ('Guadalcanal', 'Guadalcanal'), ('Guernsey Island', 'Guernsey Island'), ('Guguan Island', 'Guguan Island'), ('Guiana, British', 'Guiana, British'), ('Guiana, Dutch', 'Guiana, Dutch'), ('Guiana, French', 'Guiana, French'), ('Guinea, Portuguese', 'Guinea, Portuguese'), ('Gwadar', 'Gwadar'), ('Haapai', 'Haapai'), ('Habomai Islands', 'Habomai Islands'), ('Hainan Island', 'Hainan Island'), ('Hall Islands', 'Hall Islands'), ('Helen Island', 'Helen Island'), ('Henderson Island', 'Henderson Island'), ('Hercegovina', 'Hercegovina'), ('Herzegovina', 'Herzegovina'), ('Herm', 'Herm'), ('Herm Island', 'Herm Island'), ('Holland', 'Holland'), ('Holy See', 'Holy See'), ('Hong Kong', 'Hong Kong'), ('Horne, Iles de', 'Horne, Iles de'), ('Howland Island', 'Howland Island'), ('Hull Atoll', 'Hull Atoll'), ('Huon, Ile', 'Huon, Ile'), ('Ifalik Atoll', 'Ifalik Atoll'), ('Ifni', 'Ifni'), ('Ile des Pins', 'Ile des Pins'), ('Ile Desroches', 'Ile Desroches'), ('Ile Europa', 'Ile Europa'), ('Ile Huon', 'Ile Huon'), ('Ile Juan de Nova', 'Ile Juan de Nova'), ('Ile Saint-Barth&eacute;lemy', 'Ile Saint-Barth&eacute;lemy'), ('Ile Tromelin', 'Ile Tromelin'), ('Ile Uvea (New Caledonia)', 'Ile Uvea (New Caledonia)'), ('Ile Uvea (Wallis and Futuna)', 'Ile Uvea (Wallis and Futuna)'), ('Ile Walpole', 'Ile Walpole'), ('Iles Australes', 'Iles Australes'), ('Iles Belep', 'Iles Belep'), ('Iles Chesterfield', 'Iles Chesterfield'), ('Iles de Horne', 'Iles de Horne'), ('Iles de la Petite Terre', 'Iles de la Petite Terre'), ('Iles des Saintes', 'Iles des Saintes'), ('Iles du Vent', 'Iles du Vent'), ('Iles Glorieuses', 'Iles Glorieuses'), ('Iles Sous le Vent', 'Iles Sous le Vent'), ('Ilha da Trindade', 'Ilha da Trindade'), ('Ilha de Atauro', 'Ilha de Atauro'), ('Ilhas Martim Vaz', 'Ilhas Martim Vaz'), ('Ilheu de Jaco', 'Ilheu de Jaco'), ('Inaccessible Island', 'Inaccessible Island'), ('Inner Mongolia', 'Inner Mongolia'), ('Ionian Islands', 'Ionian Islands'), ('Ireland, Northern', 'Ireland, Northern'), ('Irian Barat', 'Irian Barat'), ('Isla de Malpelo', 'Isla de Malpelo'), ('Isla de Pasqua', 'Isla de Pasqua'), ('Isla Sala y G&oacute;mez', 'Isla Sala y G&oacute;mez'), ('Islas Chafarinas', 'Islas Chafarinas'), ('Islas de Revillagigedo', 'Islas de Revillagigedo'), ('Islas Juan Fern&aacute;ndez', 'Islas Juan Fern&aacute;ndez'), ('Islas Malvinas', 'Islas Malvinas'), ('Isle of Pines (Caribbean)', 'Isle of Pines (Caribbean)'), ('Isle of Pines (Pacific Ocean)', 'Isle of Pines (Pacific Ocean)'), ('Israel-Jordan Demilitarized Zones', 'Israel-Jordan Demilitarized Zones'), ('Israel-Syria Demilitarized Zones', 'Israel-Syria Demilitarized Zones'), ('Issas', 'Issas'), ('Ivory Coast', 'Ivory Coast'), ('Jaco, Ilheu de', 'Jaco, Ilheu de'), ('Jaluit Atoll', 'Jaluit Atoll'), ('Jan Mayen', 'Jan Mayen'), ('Jarvis Island', 'Jarvis Island'), ('Jersey (Island)', 'Jersey (Island)'), ('Jethou', 'Jethou'), ('Jordan (Territory under Israeli occupation, 1967-  )', 'Jordan (Territory under Israeli occupation, 1967-  )'), ('Jost Van Dyke', 'Jost Van Dyke'), ('Juan de Nova, Ile', 'Juan de Nova, Ile'), ('Juan Fern&aacute;ndez, Islas', 'Juan Fern&aacute;ndez, Islas'), ('Kalba', 'Kalba'), ('Kamaran', 'Kamaran'), ('Kampuchea', 'Kampuchea'), ('Kapingamarangi Atoll', 'Kapingamarangi Atoll'), ('Kazakh S.S.R.', 'Kazakh S.S.R.'), ('Keeling Islands', 'Keeling Islands'), ('Kerguelen Island', 'Kerguelen Island'), ('Kermadec Islands', 'Kermadec Islands'), ('Khmer Republic', 'Khmer Republic'), ('Kili Island', 'Kili Island'), ('Kingman Reef', 'Kingman Reef'), ('Kirghiz S.S.R.', 'Kirghiz S.S.R.'), ('Kirghizia', 'Kirghizia'), ('Kiritimati', 'Kiritimati'), ('Korea, Republic of', 'Korea, Republic of'), ('Kosrae (Micronesia)', 'Kosrae (Micronesia)'), ('Kowloon', 'Kowloon'), ('Kuria Muria Islands', 'Kuria Muria Islands'), ('Kuril Islands (Southern)', 'Kuril Islands (Southern)'), ('Kusaie (Micronesia)', 'Kusaie (Micronesia)'), ('Kwajalein Atoll', 'Kwajalein Atoll'), ('La D&eacute;sirade', 'La D&eacute;sirade'), ('Labrador', 'Labrador'), ('Laccadive Island', 'Laccadive Island'), ('Lebowa', 'Lebowa'), ('Lihou', 'Lihou'), ('Line Islands (Southern)', 'Line Islands (Southern)'), ('Little Cayman Island', 'Little Cayman Island'), ('Louisiada Archipelago', 'Louisiada Archipelago'), ('Loyalty Islands', 'Loyalty Islands'), ('Lulunga', 'Lulunga'), ('Macao', 'Macao'), ('Macau', 'Macau'), ('Machangana', 'Machangana'), ('Macias Nguema Biyogo', 'Macias Nguema Biyogo'), ('Macquarie Island', 'Macquarie Island'), ('Madeira Island', 'Madeira Island'), ('Maio', 'Maio'), ('Majuro Atoll', 'Majuro Atoll'), ('Malagasy Republic', 'Malagasy Republic'), ('Malaita', 'Malaita'), ('Malaya', 'Malaya'), ('Malden Island', 'Malden Island'), ('Maldive Islands', 'Maldive Islands'), ('Maloelap Atoll', 'Maloelap Atoll'), ('Malpelo, Isla de', 'Malpelo, Isla de'), ('Malvinas, Islas', 'Malvinas, Islas'), ('Manchuria', 'Manchuria'), ('Manihiki Atoll', 'Manihiki Atoll'), ('Manra Atoll', 'Manra Atoll'), ('Marcus Island', 'Marcus Island'), ('Mariana Islands', 'Mariana Islands'), ('Marie-Galante', 'Marie-Galante'), ('Marion Island', 'Marion Island'), ('Marquesas Islands', 'Marquesas Islands'), ('Martim Vaz, Ilhas', 'Martim Vaz, Ilhas'), ('Maug Islands', 'Maug Islands'), ('McKean Atoll', 'McKean Atoll'), ('Melilla', 'Melilla'), ('Merir Island', 'Merir Island'), ('Middle Congo', 'Middle Congo'), ('Mili Atoll', 'Mili Atoll'), ('Minicoy Island', 'Minicoy Island'), ('Miquelon', 'Miquelon'), ('Moheli Island', 'Moheli Island'), ('Moldavian S.S.R.', 'Moldavian S.S.R.'), (\"Mongolian People's Republic\", \"Mongolian People's Republic\"), ('Morant Cays', 'Morant Cays'), ('Mortlock Islands', 'Mortlock Islands'), ('Mount Athos', 'Mount Athos'), ('Muscat and Oman', 'Muscat and Oman'), ('Myanmar', 'Myanmar'), ('Namonuito Atoll', 'Namonuito Atoll'), ('Namorik Atoll', 'Namorik Atoll'), ('Namposhoto (Northern)', 'Namposhoto (Northern)'), ('Namposhoto (Southern)', 'Namposhoto (Southern)'), ('Nationalist China', 'Nationalist China'), ('Navassa Island', 'Navassa Island'), ('Netherlands Antilles', 'Netherlands Antilles'), ('Netherlands Guiana', 'Netherlands Guiana'), ('Netherlands New Guinea', 'Netherlands New Guinea'), ('New Britain Island', 'New Britain Island'), ('New Guinea', 'New Guinea'), ('New Hebrides', 'New Hebrides'), ('New Ireland Island', 'New Ireland Island'), ('New Siberian Islands', 'New Siberian Islands'), ('New Territories', 'New Territories'), ('Newfoundland', 'Newfoundland'), ('Ngatik Atoll', 'Ngatik Atoll'), ('Ngulu Atoll', 'Ngulu Atoll'), ('Nicobar Islands', 'Nicobar Islands'), ('Nightingale Island', 'Nightingale Island'), ('Nikomaroro Atoll', 'Nikomaroro Atoll'), ('Nishinoshima Island', 'Nishinoshima Island'), ('Niulakita Island', 'Niulakita Island'), ('Nomuka', 'Nomuka'), ('North Borneo', 'North Borneo'), ('North East New Guinea', 'North East New Guinea'), ('North Island', 'North Island'), ('North Korea', 'North Korea'), ('North Vietnam', 'North Vietnam'), ('Northern Rhodesia', 'Northern Rhodesia'), ('Northern Territories', 'Northern Territories'), ('Novaya Zemlya', 'Novaya Zemlya'), ('Nukufetau Atoll', 'Nukufetau Atoll'), ('Nukulaelae Atoll', 'Nukulaelae Atoll'), ('Nukulailai Atoll', 'Nukulailai Atoll'), ('Nukunono Atoll', 'Nukunono Atoll'), ('Nukuoru Atoll', 'Nukuoru Atoll'), ('Nurakita Island', 'Nurakita Island'), ('Nyasaland', 'Nyasaland'), ('Ocean Island', 'Ocean Island'), ('Oe-Cussi', 'Oe-Cussi'), ('Oeno Atoll', 'Oeno Atoll'), ('Okinawa', 'Okinawa'), ('Oman, Trucial', 'Oman, Trucial'), ('Orkney Islands', 'Orkney Islands'), ('Oroluk Atoll', 'Oroluk Atoll'), ('Orona Atoll', 'Orona Atoll'), ('Otu Tolu', 'Otu Tolu'), ('Outer Mongolia', 'Outer Mongolia'), ('Pacific Islands (Trust Territory)', 'Pacific Islands (Trust Territory)'), ('Pagalu', 'Pagalu'), ('Pagan Island', 'Pagan Island'), ('Palmyra Atoll', 'Palmyra Atoll'), ('Pantelleria', 'Pantelleria'), ('Parece Vela Island', 'Parece Vela Island'), ('Pasqua, Isla de', 'Pasqua, Isla de'), ('Pedro Cays', 'Pedro Cays'), ('Peleliu Island', 'Peleliu Island'), ('Pelew', 'Pelew'), ('Pemba', 'Pemba'), ('Penedos de S&atilde;o Pedro e S&atilde;o Paulo', 'Penedos de S&atilde;o Pedro e S&atilde;o Paulo'), (\"P'eng-hu Island\", \"P'eng-hu Island\"), ('Pe&ntilde;&oacute;n de Alhucemas', 'Pe&ntilde;&oacute;n de Alhucemas'), ('Pe&ntilde;&oacute;n de V&eacute;lez de la Gomera', 'Pe&ntilde;&oacute;n de V&eacute;lez de la Gomera'), ('Penrhyn Atoll', 'Penrhyn Atoll'), ('Perim', 'Perim'), ('Pescadores', 'Pescadores'), ('Petite Terre, Iles de', 'Petite Terre, Iles de'), ('Phoenix Atoll', 'Phoenix Atoll'), ('Phoenix Islands', 'Phoenix Islands'), ('Pines, Isle of (Caribbean)', 'Pines, Isle of (Caribbean)'), ('Pines, Isle of (Pacific Ocean)', 'Pines, Isle of (Pacific Ocean)'), ('Pingelap Atoll', 'Pingelap Atoll'), ('Pins, Ile des', 'Pins, Ile des'), ('Plazas de Soberania', 'Plazas de Soberania'), ('Pohnpei', 'Pohnpei'), ('Polynesia, French', 'Polynesia, French'), ('Ponape (Micronesia)', 'Ponape (Micronesia)'), ('Portuguese Guinea', 'Portuguese Guinea'), ('Portuguese Timor', 'Portuguese Timor'), ('Prince Edward Islands', 'Prince Edward Islands'), ('Protectorate of South Arabia', 'Protectorate of South Arabia'), ('Pulap Atoll', 'Pulap Atoll'), ('Pulo Anna Island', 'Pulo Anna Island'), ('Pulusak Island', 'Pulusak Island'), ('Puluwat Atoll', 'Puluwat Atoll'), ('Quita Sueno Bank', 'Quita Sueno Bank'), ('Rakahanga Atoll', 'Rakahanga Atoll'), ('Ralik Chain', 'Ralik Chain'), ('Ras al Khaimah', 'Ras al Khaimah'), (\"Ra's al-Khayman\", \"Ra's al-Khayman\"), ('Ratak Chains', 'Ratak Chains'), ('Rawaki', 'Rawaki'), ('Redonda', 'Redonda'), ('Revillagigedo, Islas de', 'Revillagigedo, Islas de'), ('Rhodesia', 'Rhodesia'), ('R&iacute;o de Oro', 'R&iacute;o de Oro'), ('Rio Muni', 'Rio Muni'), ('Rocas', 'Rocas'), ('Rodrigues Island', 'Rodrigues Island'), ('Roncador Cay', 'Roncador Cay'), ('Rongelap Atoll', 'Rongelap Atoll'), ('Rota Island', 'Rota Island'), ('Rotuma Island', 'Rotuma Island'), ('Rumania', 'Rumania'), ('Russian S.F.S.R.', 'Russian S.F.S.R.'), ('Ryukyu Islands, Northern', 'Ryukyu Islands, Northern'), ('Ryukyu Islands, Southern', 'Ryukyu Islands, Southern'), ('Saba', 'Saba'), ('Saba (Netherlands Antilles)', 'Saba (Netherlands Antilles)'), ('Sabah', 'Sabah'), ('Saguia el Hamra', 'Saguia el Hamra'), ('Saint Bartholomew', 'Saint Bartholomew'), ('Saint Barts', 'Saint Barts'), ('Saint Brandon', 'Saint Brandon'), ('Saint Christopher', 'Saint Christopher'), ('Saint Eustatius', 'Saint Eustatius'), ('Saint Francois Island', 'Saint Francois Island'), ('Saint Kitts-Nevis-Anguilla', 'Saint Kitts-Nevis-Anguilla'), ('Saint-Martin (Collectivity)', 'Saint-Martin (Collectivity)'), ('Saint-Martin (France: Collectivity)', 'Saint-Martin (France: Collectivity)'), ('Saint Martin, Northern', 'Saint Martin, Northern'), ('Saint Martin, Southern', 'Saint Martin, Southern'), ('Saint Paul Island', 'Saint Paul Island'), ('Saint Pierre Islet', 'Saint Pierre Islet'), ('Saint Vincent', 'Saint Vincent'), ('Saintes, Iles des', 'Saintes, Iles des'), ('Saipan Island', 'Saipan Island'), ('Sakhalin (Southern)', 'Sakhalin (Southern)'), ('Sal', 'Sal'), ('Sala y G&oacute;mez, Isla', 'Sala y G&oacute;mez, Isla'), ('Salvador', 'Salvador'), ('Samoa, American', 'Samoa, American'), ('Samoa i Sisifo', 'Samoa i Sisifo'), ('Samoa, Western', 'Samoa, Western'), ('San Andr&eacute;s y Providencia', 'San Andr&eacute;s y Providencia'), ('San Crist&oacute;bal', 'San Crist&oacute;bal'), ('San F&eacute;lix', 'San F&eacute;lix'), ('Sand Island', 'Sand Island'), ('Santa Isabel', 'Santa Isabel'), ('Santo Antao', 'Santo Antao'), ('S&atilde;o Nicolau', 'S&atilde;o Nicolau'), ('S&atilde;o Tiago', 'S&atilde;o Tiago'), ('S&atilde;o Vicente', 'S&atilde;o Vicente'), ('Sarawak', 'Sarawak'), ('Sardinia', 'Sardinia'), ('Sarigan Island', 'Sarigan Island'), ('Sark', 'Sark'), ('Sark Island', 'Sark Island'), ('Satawal Island', 'Satawal Island'), (\"Savai'i\", \"Savai'i\"), ('Senyavin Islands', 'Senyavin Islands'), ('Serrana Bank', 'Serrana Bank'), ('Serranilla Bank', 'Serranilla Bank'), ('Severnaya Zemlya', 'Severnaya Zemlya'), ('Shariqah', 'Shariqah'), ('Sharjah', 'Sharjah'), ('Shetland Islands', 'Shetland Islands'), ('Siam', 'Siam'), ('Sicily', 'Sicily'), ('Sikkim', 'Sikkim'), ('Sinkiang', 'Sinkiang'), ('Sint Eustatius', 'Sint Eustatius'), ('Sint Eustatius (Netherlands Antilles)', 'Sint Eustatius (Netherlands Antilles)'), ('Sint Maarten (Netherlands Antilles)', 'Sint Maarten (Netherlands Antilles)'), ('Slovak Socialist Republic', 'Slovak Socialist Republic'), ('Society Islands', 'Society Islands'), ('Socotra', 'Socotra'), ('Solomon Islands, Northern', 'Solomon Islands, Northern'), ('Solomon Islands Protectorate', 'Solomon Islands Protectorate'), ('Somali Republic', 'Somali Republic'), ('Sombrero Island', 'Sombrero Island'), ('Sonsoral Islands', 'Sonsoral Islands'), ('Soudan', 'Soudan'), ('Sous le Vent, Iles', 'Sous le Vent, Iles'), ('South Arabia', 'South Arabia'), ('South Georgia Island', 'South Georgia Island'), ('South Island', 'South Island'), ('South Korea', 'South Korea'), ('South Sandwich Island', 'South Sandwich Island'), ('South Sotho', 'South Sotho'), ('South Vietnam', 'South Vietnam'), ('South-West Africa', 'South-West Africa'), ('Southern Cameroons', 'Southern Cameroons'), ('Southern Rhodesia', 'Southern Rhodesia'), ('Southern Yemen', 'Southern Yemen'), ('Soviet Union', 'Soviet Union'), ('Spanish Morocco', 'Spanish Morocco'), ('Spanish Sahara', 'Spanish Sahara'), ('Spanish Territories in Northern Morocco', 'Spanish Territories in Northern Morocco'), ('Spitsbergen', 'Spitsbergen'), ('St. Barth&eacute;lemy', 'St. Barth&eacute;lemy'), ('St. Christopher', 'St. Christopher'), ('Statia (Netherlands Antilles)', 'Statia (Netherlands Antilles)'), ('Starbuck Island', 'Starbuck Island'), ('Stewart Island', 'Stewart Island'), ('Sudan, French', 'Sudan, French'), ('Sudan, South', 'Sudan, South'), ('Svalbard (Norway)', 'Svalbard (Norway)'), ('Swan Islands', 'Swan Islands'), ('Sydney Atoll', 'Sydney Atoll'), ('Syrian Arab Republic', 'Syrian Arab Republic'), ('T.A.A.F.', 'T.A.A.F.'), ('Tabuarean Island', 'Tabuarean Island'), ('Tadzhik S.S.R.', 'Tadzhik S.S.R.'), ('Tahiti', 'Tahiti'), ('Taipa', 'Taipa'), ('Taiwan Island', 'Taiwan Island'), ('Tajik S.S.R.', 'Tajik S.S.R.'), ('Tanganyika', 'Tanganyika'), ('Tangier Zone', 'Tangier Zone'), ('Taongi Atoll', 'Taongi Atoll'), ('Tibet', 'Tibet'), ('Timor, East', 'Timor, East'), ('Tinian Island', 'Tinian Island'), ('Tobago', 'Tobago'), ('Tobi Island', 'Tobi Island'), ('Togoland', 'Togoland'), ('Tongatapu', 'Tongatapu'), ('Torishima', 'Torishima'), ('Torres Islands', 'Torres Islands'), ('Tortola', 'Tortola'), ('Transkei', 'Transkei'), ('Trindade, Ilha da', 'Trindade, Ilha da'), ('Tristan da Cunha Island', 'Tristan da Cunha Island'), ('Trobriand Islands', 'Trobriand Islands'), ('Tromelin, Ile', 'Tromelin, Ile'), ('Trucial Coast', 'Trucial Coast'), ('Trucial Oman', 'Trucial Oman'), ('Trucial Sheikdoms', 'Trucial Sheikdoms'), ('Trucial States', 'Trucial States'), ('Truk (Micronesia)', 'Truk (Micronesia)'), ('Trust Territory of the Pacific Islands', 'Trust Territory of the Pacific Islands'), ('Tswana', 'Tswana'), ('Tuamotu Archipelago', 'Tuamotu Archipelago'), ('Turkmen S.S.R. ', 'Turkmen S.S.R. '), ('Ubangi-Shari', 'Ubangi-Shari'), ('Ujelang Atoll', 'Ujelang Atoll'), ('Ulithi Islands', 'Ulithi Islands'), ('Umm al Qaiwain', 'Umm al Qaiwain'), ('Umm al-Qaywayn', 'Umm al-Qaywayn'), ('Union Islands', 'Union Islands'), ('United Arab Republic', 'United Arab Republic'), ('United Kingdom Misc. Islands', 'United Kingdom Misc. Islands'), ('Upolu', 'Upolu'), ('Upper Volta', 'Upper Volta'), ('Utirik Atoll', 'Utirik Atoll'), ('Uvea (New Caledonia)', 'Uvea (New Caledonia)'), ('Uvea (Wallis and Futuna)', 'Uvea (Wallis and Futuna)'), ('Uzbek S.S.R.', 'Uzbek S.S.R.'), ('Vanua Levu Island', 'Vanua Levu Island'), ('Vavau', 'Vavau'), ('Venda', 'Venda'), ('Vent, Iles du', 'Vent, Iles du'), ('Vietnam, North', 'Vietnam, North'), ('Vietnam, Republic of', 'Vietnam, Republic of'), ('Vietnam, South', 'Vietnam, South'), ('Virgin Gorda', 'Virgin Gorda'), ('Virgin Islands (British)', 'Virgin Islands (British)'), ('Viti Levu Island', 'Viti Levu Island'), ('Volcano Islands', 'Volcano Islands'), ('Vostok Islands', 'Vostok Islands'), ('Walpole, Ile', 'Walpole, Ile'), ('Walvis Bay Enclave', 'Walvis Bay Enclave'), ('Washington Island', 'Washington Island'), ('West Berlin</', 'West Berlin</'), ('West Cameroon', 'West Cameroon'), ('West Falkland Island', 'West Falkland Island'), ('West Fayu Atoll', 'West Fayu Atoll'), ('West New Guinea', 'West New Guinea'), ('West Pakistan', 'West Pakistan'), ('Western Samoa', 'Western Samoa'), ('Woleai Atolls', 'Woleai Atolls'), ('Woodlark Island', 'Woodlark Island'), ('Wotje Atoll', 'Wotje Atoll'), ('Wrangel Island', 'Wrangel Island'), ('Yap (Micronesia)', 'Yap (Micronesia)'), (\"Yemen (People's Democratic Republic)\", \"Yemen (People's Democratic Republic)\"), ('Yugoslavia', 'Yugoslavia'), ('Zaire', 'Zaire'), ('Zanzibar', 'Zanzibar'), ('Zimbabwe Rhodesia', 'Zimbabwe Rhodesia'), ('Zona Sur del Protectorado de Marruecos', 'Zona Sur del Protectorado de Marruecos'), ('Zulu', 'Zulu')]}\n"
     ]
    }
   ],
   "source": [
    "import urllib, json\n",
    "text_file = open('countries_list_raw.txt')\n",
    "# languageFile_url = 'https://www.loc.gov/standards/iso639-2/ISO-639-2_utf-8.txt'\n",
    "# text_file = urllib.request.urlopen(languageFile_url)\n",
    "lines = text_file.read().split('\\n')\n",
    "\n",
    "list_tmp = list()\n",
    "#list_tmp += ['English','French','Spanish','Portuguese''Chinese','Japanese','-----------------']\n",
    "countries_dict = dict()\n",
    "\n",
    "# Loop to clean out the country string\n",
    "for line in lines:\n",
    "    if '<li><span class=\"unauthorizedname\">' in line:\n",
    "        rem_prefix = line[35:]\n",
    "        country = rem_prefix[:-7]\n",
    "        \n",
    "        # create tuples and zip into list\n",
    "        tup = (country)\n",
    "        list_tmp += [tup]\n",
    "        countries_list = list(zip(list_tmp,list_tmp))\n",
    "        \n",
    "countries_dict['countries_list'] = countries_list\n",
    "\n",
    "print(countries_dict)\n",
    "\n",
    "filename = 'countries_list.json'\n",
    "with open(filename, 'w') as write_file:\n",
    "    json.dump(countries_dict, write_file)\n",
    "\n",
    "# read test with output directly in list/txt\n",
    "# with open(filename) as f:\n",
    "#     mylist = list(f)\n",
    "# print(mylist)\n"
   ]
  },
  {
   "cell_type": "code",
   "execution_count": null,
   "metadata": {},
   "outputs": [],
   "source": []
  },
  {
   "cell_type": "code",
   "execution_count": null,
   "metadata": {},
   "outputs": [],
   "source": []
  },
  {
   "cell_type": "code",
   "execution_count": null,
   "metadata": {},
   "outputs": [],
   "source": []
  },
  {
   "cell_type": "code",
   "execution_count": null,
   "metadata": {},
   "outputs": [],
   "source": []
  },
  {
   "cell_type": "code",
   "execution_count": null,
   "metadata": {},
   "outputs": [],
   "source": []
  },
  {
   "cell_type": "code",
   "execution_count": null,
   "metadata": {},
   "outputs": [],
   "source": []
  },
  {
   "cell_type": "code",
   "execution_count": null,
   "metadata": {},
   "outputs": [],
   "source": []
  },
  {
   "cell_type": "code",
   "execution_count": null,
   "metadata": {},
   "outputs": [],
   "source": []
  },
  {
   "cell_type": "code",
   "execution_count": null,
   "metadata": {},
   "outputs": [],
   "source": []
  },
  {
   "cell_type": "code",
   "execution_count": null,
   "metadata": {},
   "outputs": [],
   "source": []
  },
  {
   "cell_type": "code",
   "execution_count": null,
   "metadata": {},
   "outputs": [],
   "source": []
  },
  {
   "cell_type": "code",
   "execution_count": null,
   "metadata": {},
   "outputs": [],
   "source": []
  },
  {
   "cell_type": "code",
   "execution_count": null,
   "metadata": {},
   "outputs": [],
   "source": []
  },
  {
   "cell_type": "code",
   "execution_count": null,
   "metadata": {},
   "outputs": [],
   "source": []
  },
  {
   "cell_type": "code",
   "execution_count": null,
   "metadata": {},
   "outputs": [],
   "source": []
  },
  {
   "cell_type": "code",
   "execution_count": null,
   "metadata": {},
   "outputs": [],
   "source": []
  },
  {
   "cell_type": "code",
   "execution_count": null,
   "metadata": {},
   "outputs": [],
   "source": []
  },
  {
   "cell_type": "code",
   "execution_count": null,
   "metadata": {},
   "outputs": [],
   "source": []
  },
  {
   "cell_type": "code",
   "execution_count": null,
   "metadata": {},
   "outputs": [],
   "source": []
  },
  {
   "cell_type": "code",
   "execution_count": null,
   "metadata": {},
   "outputs": [],
   "source": []
  },
  {
   "cell_type": "code",
   "execution_count": null,
   "metadata": {},
   "outputs": [],
   "source": []
  },
  {
   "cell_type": "code",
   "execution_count": null,
   "metadata": {},
   "outputs": [],
   "source": []
  },
  {
   "cell_type": "code",
   "execution_count": null,
   "metadata": {},
   "outputs": [],
   "source": []
  },
  {
   "cell_type": "code",
   "execution_count": null,
   "metadata": {},
   "outputs": [],
   "source": []
  },
  {
   "cell_type": "code",
   "execution_count": null,
   "metadata": {},
   "outputs": [],
   "source": []
  },
  {
   "cell_type": "code",
   "execution_count": null,
   "metadata": {},
   "outputs": [],
   "source": []
  },
  {
   "cell_type": "code",
   "execution_count": null,
   "metadata": {},
   "outputs": [],
   "source": []
  },
  {
   "cell_type": "code",
   "execution_count": null,
   "metadata": {},
   "outputs": [],
   "source": []
  },
  {
   "cell_type": "code",
   "execution_count": null,
   "metadata": {},
   "outputs": [],
   "source": []
  },
  {
   "cell_type": "code",
   "execution_count": null,
   "metadata": {},
   "outputs": [],
   "source": []
  },
  {
   "cell_type": "code",
   "execution_count": null,
   "metadata": {},
   "outputs": [],
   "source": []
  },
  {
   "cell_type": "code",
   "execution_count": null,
   "metadata": {},
   "outputs": [],
   "source": []
  },
  {
   "cell_type": "code",
   "execution_count": null,
   "metadata": {},
   "outputs": [],
   "source": []
  }
 ],
 "metadata": {
  "kernelspec": {
   "display_name": "Python 3",
   "language": "python",
   "name": "python3"
  },
  "language_info": {
   "codemirror_mode": {
    "name": "ipython",
    "version": 3
   },
   "file_extension": ".py",
   "mimetype": "text/x-python",
   "name": "python",
   "nbconvert_exporter": "python",
   "pygments_lexer": "ipython3",
   "version": "3.7.1"
  }
 },
 "nbformat": 4,
 "nbformat_minor": 2
}
