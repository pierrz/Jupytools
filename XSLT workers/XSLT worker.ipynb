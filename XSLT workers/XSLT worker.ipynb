{
 "cells": [
  {
   "cell_type": "code",
   "execution_count": 2,
   "metadata": {},
   "outputs": [
    {
     "ename": "XSLTParseError",
     "evalue": "element sort is not allowed within that context",
     "output_type": "error",
     "traceback": [
      "\u001b[0;31m---------------------------------------------------------------------------\u001b[0m",
      "\u001b[0;31mXSLTParseError\u001b[0m                            Traceback (most recent call last)",
      "\u001b[0;32m<ipython-input-2-4cad9cac0a69>\u001b[0m in \u001b[0;36m<module>\u001b[0;34m\u001b[0m\n\u001b[1;32m      6\u001b[0m \u001b[0mxml_data\u001b[0m \u001b[0;34m=\u001b[0m \u001b[0metree\u001b[0m\u001b[0;34m.\u001b[0m\u001b[0mparse\u001b[0m\u001b[0;34m(\u001b[0m\u001b[0mxml_filename\u001b[0m\u001b[0;34m)\u001b[0m\u001b[0;34m\u001b[0m\u001b[0;34m\u001b[0m\u001b[0m\n\u001b[1;32m      7\u001b[0m \u001b[0mxslTemplate\u001b[0m \u001b[0;34m=\u001b[0m \u001b[0metree\u001b[0m\u001b[0;34m.\u001b[0m\u001b[0mparse\u001b[0m\u001b[0;34m(\u001b[0m\u001b[0mxsl_filename\u001b[0m\u001b[0;34m)\u001b[0m\u001b[0;34m\u001b[0m\u001b[0;34m\u001b[0m\u001b[0m\n\u001b[0;32m----> 8\u001b[0;31m \u001b[0mxml_data\u001b[0m\u001b[0;34m.\u001b[0m\u001b[0mxslt\u001b[0m\u001b[0;34m(\u001b[0m\u001b[0mxslTemplate\u001b[0m\u001b[0;34m)\u001b[0m\u001b[0;34m\u001b[0m\u001b[0;34m\u001b[0m\u001b[0m\n\u001b[0m",
      "\u001b[0;32msrc/lxml/etree.pyx\u001b[0m in \u001b[0;36mlxml.etree._ElementTree.xslt\u001b[0;34m()\u001b[0m\n",
      "\u001b[0;32msrc/lxml/xslt.pxi\u001b[0m in \u001b[0;36mlxml.etree.XSLT.__init__\u001b[0;34m()\u001b[0m\n",
      "\u001b[0;31mXSLTParseError\u001b[0m: element sort is not allowed within that context"
     ]
    }
   ],
   "source": [
    "from lxml import etree\n",
    "# files\n",
    "xml_filename = '/Users/pierre/Dropbox/+InProgress/+muz-dev/edm|iiif__5d36e533c86b6409a3e0d032_kokoelmat_fng_fi_app_si_A_III_2753_3A21.xml'\n",
    "xsl_filename = '/Users/pierre/Dropbox/+InProgress/+muz-dev/edm_sorting_v2.xsl'\n",
    "# output_dir = '/Users/pierre/Code/Jupyter/Python/Tools/XSLT worker/output'\n",
    "xml_data = etree.parse(xml_filename)\n",
    "xslTemplate = etree.parse(xsl_filename)\n",
    "xml_data.xslt(xslTemplate)"
   ]
  },
  {
   "cell_type": "code",
   "execution_count": null,
   "metadata": {},
   "outputs": [],
   "source": []
  },
  {
   "cell_type": "code",
   "execution_count": null,
   "metadata": {},
   "outputs": [],
   "source": []
  },
  {
   "cell_type": "code",
   "execution_count": null,
   "metadata": {},
   "outputs": [],
   "source": []
  },
  {
   "cell_type": "code",
   "execution_count": null,
   "metadata": {},
   "outputs": [],
   "source": []
  },
  {
   "cell_type": "code",
   "execution_count": null,
   "metadata": {},
   "outputs": [],
   "source": []
  }
 ],
 "metadata": {
  "kernelspec": {
   "display_name": "Python 3",
   "language": "python",
   "name": "python3"
  },
  "language_info": {
   "codemirror_mode": {
    "name": "ipython",
    "version": 3
   },
   "file_extension": ".py",
   "mimetype": "text/x-python",
   "name": "python",
   "nbconvert_exporter": "python",
   "pygments_lexer": "ipython3",
   "version": "3.7.1"
  }
 },
 "nbformat": 4,
 "nbformat_minor": 2
}
