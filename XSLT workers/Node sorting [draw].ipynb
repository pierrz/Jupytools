{
 "cells": [
  {
   "cell_type": "code",
   "execution_count": 77,
   "metadata": {},
   "outputs": [
    {
     "name": "stdout",
     "output_type": "stream",
     "text": [
      "<Element {http://www.europeana.eu/schemas/edm/}ProvidedCHO at 0x10ee33d08>\n",
      "['creator', 'date', 'format', 'identifier', 'publisher', 'relation', 'subject', 'title', 'type']\n",
      "[<Element {http://www.europeana.eu/schemas/edm/}type at 0x10edf3c88>, <Element {http://purl.org/dc/elements/1.1/}subject at 0x10ee33dc8>, <Element {http://purl.org/dc/elements/1.1/}subject at 0x10eeeabc8>, <Element {http://purl.org/dc/elements/1.1/}subject at 0x10eeeac48>, <Element {http://purl.org/dc/elements/1.1/}subject at 0x10eeeaa88>, <Element {http://purl.org/dc/elements/1.1/}subject at 0x10eeeaac8>, <Element {http://purl.org/dc/elements/1.1/}subject at 0x10eeeaec8>, <Element {http://purl.org/dc/elements/1.1/}subject at 0x10eeeae48>, <Element {http://purl.org/dc/elements/1.1/}subject at 0x10eeeaf08>, <Element {http://purl.org/dc/elements/1.1/}subject at 0x10eeeae88>, <Element {http://purl.org/dc/elements/1.1/}subject at 0x10eeea888>, <Element {http://purl.org/dc/elements/1.1/}title at 0x10eeea808>, <Element {http://purl.org/dc/elements/1.1/}title at 0x10eeea848>, <Element {http://purl.org/dc/elements/1.1/}title at 0x10eeea7c8>, <Element {http://purl.org/dc/elements/1.1/}type at 0x10eeea788>, <Element {http://purl.org/dc/elements/1.1/}type at 0x10eeea748>, <Element {http://purl.org/dc/elements/1.1/}identifier at 0x10eeea6c8>, <Element {http://purl.org/dc/elements/1.1/}identifier at 0x10eeea648>, <Element {http://purl.org/dc/elements/1.1/}identifier at 0x10eeea688>, <Element {http://purl.org/dc/elements/1.1/}identifier at 0x10eeead48>, <Element {http://purl.org/dc/elements/1.1/}creator at 0x10ed790c8>, <Element {http://purl.org/dc/elements/1.1/}publisher at 0x10ed79108>, <Element {http://purl.org/dc/elements/1.1/}publisher at 0x10edcc948>, <Element {http://purl.org/dc/elements/1.1/}date at 0x10edcc888>, <Element {http://purl.org/dc/elements/1.1/}date at 0x10edccc08>, <Element {http://purl.org/dc/elements/1.1/}format at 0x10edccd88>, <Element {http://purl.org/dc/elements/1.1/}format at 0x10edcc8c8>, <Element {http://purl.org/dc/elements/1.1/}format at 0x10ee111c8>, <Element {http://purl.org/dc/elements/1.1/}relation at 0x10ee115c8>]\n",
      "[<Element {http://purl.org/dc/elements/1.1/}creator at 0x10ed790c8>, <Element {http://purl.org/dc/elements/1.1/}date at 0x10edcc888>, <Element {http://purl.org/dc/elements/1.1/}date at 0x10edccc08>, <Element {http://purl.org/dc/elements/1.1/}format at 0x10edccd88>, <Element {http://purl.org/dc/elements/1.1/}format at 0x10edcc8c8>, <Element {http://purl.org/dc/elements/1.1/}format at 0x10ee111c8>, <Element {http://purl.org/dc/elements/1.1/}identifier at 0x10eeea6c8>, <Element {http://purl.org/dc/elements/1.1/}identifier at 0x10eeea648>, <Element {http://purl.org/dc/elements/1.1/}identifier at 0x10eeea688>, <Element {http://purl.org/dc/elements/1.1/}identifier at 0x10eeead48>, <Element {http://purl.org/dc/elements/1.1/}publisher at 0x10ed79108>, <Element {http://purl.org/dc/elements/1.1/}publisher at 0x10edcc948>, <Element {http://purl.org/dc/elements/1.1/}relation at 0x10ee115c8>, <Element {http://purl.org/dc/elements/1.1/}subject at 0x10ee33dc8>, <Element {http://purl.org/dc/elements/1.1/}subject at 0x10eeeabc8>, <Element {http://purl.org/dc/elements/1.1/}subject at 0x10eeeac48>, <Element {http://purl.org/dc/elements/1.1/}subject at 0x10eeeaa88>, <Element {http://purl.org/dc/elements/1.1/}subject at 0x10eeeaac8>, <Element {http://purl.org/dc/elements/1.1/}subject at 0x10eeeaec8>, <Element {http://purl.org/dc/elements/1.1/}subject at 0x10eeeae48>, <Element {http://purl.org/dc/elements/1.1/}subject at 0x10eeeaf08>, <Element {http://purl.org/dc/elements/1.1/}subject at 0x10eeeae88>, <Element {http://purl.org/dc/elements/1.1/}subject at 0x10eeea888>, <Element {http://purl.org/dc/elements/1.1/}title at 0x10eeea808>, <Element {http://purl.org/dc/elements/1.1/}title at 0x10eeea848>, <Element {http://purl.org/dc/elements/1.1/}title at 0x10eeea7c8>, <Element {http://purl.org/dc/elements/1.1/}type at 0x10eeea788>, <Element {http://purl.org/dc/elements/1.1/}type at 0x10eeea748>]\n",
      "<Element {http://www.openarchives.org/ore/terms/}Aggregation at 0x10ee6b788>\n",
      "['aggregatedCHO', 'isShownBy', 'object', 'provider', 'rights']\n",
      "[<Element {http://www.europeana.eu/schemas/edm/}aggregatedCHO at 0x10eecf848>, <Element {http://www.europeana.eu/schemas/edm/}provider at 0x10eecf908>, <Element {http://www.europeana.eu/schemas/edm/}rights at 0x10ee117c8>, <Element {http://www.europeana.eu/schemas/edm/}isShownBy at 0x10ee11f88>, <Element {http://www.europeana.eu/schemas/edm/}object at 0x10ee11908>]\n",
      "[<Element {http://www.europeana.eu/schemas/edm/}aggregatedCHO at 0x10eecf848>, <Element {http://www.europeana.eu/schemas/edm/}isShownBy at 0x10ee11f88>, <Element {http://www.europeana.eu/schemas/edm/}object at 0x10ee11908>, <Element {http://www.europeana.eu/schemas/edm/}provider at 0x10eecf908>, <Element {http://www.europeana.eu/schemas/edm/}rights at 0x10ee117c8>]\n",
      "<Element {http://www.europeana.eu/schemas/edm/}WebResource at 0x10eecfa08>\n",
      "['has_service', 'isReferencedBy']\n",
      "[<Element {http://purl.org/dc/terms/}isReferencedBy at 0x10ed79108>, <Element {http://rdfs.org/sioc/services#}has_service at 0x10edcc888>]\n",
      "[<Element {http://rdfs.org/sioc/services#}has_service at 0x10edcc888>, <Element {http://purl.org/dc/terms/}isReferencedBy at 0x10ed79108>]\n",
      "<Element {http://rdfs.org/sioc/services#}Service at 0x10eecfac8>\n",
      "['conformsTo']\n",
      "[<Element {http://purl.org/dc/terms/}conformsTo at 0x10eeeafc8>]\n",
      "[<Element {http://purl.org/dc/terms/}conformsTo at 0x10eeeafc8>]\n"
     ]
    }
   ],
   "source": [
    "\n",
    "import re\n",
    "from operator import itemgetter\n",
    "from lxml import etree\n",
    "# files\n",
    "xml_filename = '/Users/pierre/Dropbox/+InProgress/+muz-dev/edm|iiif__5d36e533c86b6409a3e0d032_kokoelmat_fng_fi_app_si_A_III_2753_3A21.xml'\n",
    "\n",
    "xml_data = etree.parse(xml_filename).getroot()\n",
    "nodes = xml_data.findall('*')\n",
    "\n",
    "nodes_sort = list()\n",
    "nodes_raw = list()\n",
    "total = len(nodes)\n",
    "tag_sort = list()\n",
    "tag_raw = list()\n",
    "\n",
    "\n",
    "for p in range(total):\n",
    "    n = nodes[p]\n",
    "    nodes_raw.append(n.tag)\n",
    "    nodes_sort.append(re.sub(r'.*}', '', n.tag))\n",
    "\n",
    "    t_sort = list()\n",
    "    t_raw = list()\n",
    "    for t in n:\n",
    "        t_raw.append(t.tag)\n",
    "        t_sort.append(re.sub(r'.*}', '', t.tag))\n",
    "\n",
    "    t_sorted = sorted(set(t_sort))\n",
    "    tag_sort.append(t_sorted)\n",
    "    tag_raw.append(list(set(t_raw)))\n",
    "\n",
    "# nodes_sorted = sorted(set(nodes_sort))    \n",
    "for p in range(total):\n",
    "    node = nodes[p]\n",
    "    tags = tag_sort[p]\n",
    "    tags_raw = tag_raw[p]\n",
    "    print(node)\n",
    "    print(tags)\n",
    "    data_tags = node.findall('*')\n",
    "    data_tags_sorted = list()\n",
    "    print(data_tags)\n",
    "    for n in range(len(tags)):\n",
    "        tag = tags[n]\n",
    "        # print(tag)\n",
    "        for s in tags_raw:\n",
    "            # print(s)\n",
    "            if tag in s:\n",
    "                for ti in node.findall(s):\n",
    "                    # print(ti)\n",
    "                    data_tags_sorted.append(ti)\n",
    "                break\n",
    "            else:\n",
    "                continue\n",
    "    \n",
    "    \n",
    "    print(data_tags_sorted)\n"
   ]
  },
  {
   "cell_type": "code",
   "execution_count": null,
   "metadata": {},
   "outputs": [],
   "source": []
  },
  {
   "cell_type": "code",
   "execution_count": null,
   "metadata": {},
   "outputs": [],
   "source": []
  },
  {
   "cell_type": "code",
   "execution_count": null,
   "metadata": {},
   "outputs": [],
   "source": []
  },
  {
   "cell_type": "code",
   "execution_count": null,
   "metadata": {},
   "outputs": [],
   "source": []
  },
  {
   "cell_type": "code",
   "execution_count": null,
   "metadata": {},
   "outputs": [],
   "source": []
  },
  {
   "cell_type": "code",
   "execution_count": null,
   "metadata": {},
   "outputs": [],
   "source": []
  },
  {
   "cell_type": "code",
   "execution_count": null,
   "metadata": {},
   "outputs": [],
   "source": []
  },
  {
   "cell_type": "code",
   "execution_count": null,
   "metadata": {},
   "outputs": [],
   "source": []
  },
  {
   "cell_type": "code",
   "execution_count": null,
   "metadata": {},
   "outputs": [],
   "source": []
  },
  {
   "cell_type": "code",
   "execution_count": null,
   "metadata": {},
   "outputs": [],
   "source": []
  },
  {
   "cell_type": "code",
   "execution_count": null,
   "metadata": {},
   "outputs": [],
   "source": []
  },
  {
   "cell_type": "code",
   "execution_count": null,
   "metadata": {},
   "outputs": [],
   "source": []
  },
  {
   "cell_type": "code",
   "execution_count": null,
   "metadata": {},
   "outputs": [],
   "source": []
  },
  {
   "cell_type": "code",
   "execution_count": null,
   "metadata": {},
   "outputs": [],
   "source": []
  },
  {
   "cell_type": "code",
   "execution_count": null,
   "metadata": {},
   "outputs": [],
   "source": []
  },
  {
   "cell_type": "code",
   "execution_count": null,
   "metadata": {},
   "outputs": [],
   "source": []
  },
  {
   "cell_type": "code",
   "execution_count": null,
   "metadata": {},
   "outputs": [],
   "source": []
  },
  {
   "cell_type": "code",
   "execution_count": null,
   "metadata": {},
   "outputs": [],
   "source": []
  },
  {
   "cell_type": "code",
   "execution_count": null,
   "metadata": {},
   "outputs": [],
   "source": []
  },
  {
   "cell_type": "code",
   "execution_count": null,
   "metadata": {},
   "outputs": [],
   "source": []
  },
  {
   "cell_type": "code",
   "execution_count": null,
   "metadata": {},
   "outputs": [],
   "source": []
  },
  {
   "cell_type": "code",
   "execution_count": null,
   "metadata": {},
   "outputs": [],
   "source": []
  },
  {
   "cell_type": "code",
   "execution_count": null,
   "metadata": {},
   "outputs": [],
   "source": []
  },
  {
   "cell_type": "code",
   "execution_count": null,
   "metadata": {},
   "outputs": [],
   "source": []
  },
  {
   "cell_type": "code",
   "execution_count": null,
   "metadata": {},
   "outputs": [],
   "source": []
  },
  {
   "cell_type": "code",
   "execution_count": null,
   "metadata": {},
   "outputs": [],
   "source": []
  },
  {
   "cell_type": "code",
   "execution_count": null,
   "metadata": {},
   "outputs": [],
   "source": []
  },
  {
   "cell_type": "code",
   "execution_count": null,
   "metadata": {},
   "outputs": [],
   "source": []
  },
  {
   "cell_type": "code",
   "execution_count": null,
   "metadata": {},
   "outputs": [],
   "source": []
  },
  {
   "cell_type": "code",
   "execution_count": null,
   "metadata": {},
   "outputs": [],
   "source": []
  },
  {
   "cell_type": "code",
   "execution_count": null,
   "metadata": {},
   "outputs": [],
   "source": []
  },
  {
   "cell_type": "code",
   "execution_count": null,
   "metadata": {},
   "outputs": [],
   "source": []
  },
  {
   "cell_type": "code",
   "execution_count": null,
   "metadata": {},
   "outputs": [],
   "source": []
  },
  {
   "cell_type": "code",
   "execution_count": null,
   "metadata": {},
   "outputs": [],
   "source": []
  },
  {
   "cell_type": "code",
   "execution_count": null,
   "metadata": {},
   "outputs": [],
   "source": []
  },
  {
   "cell_type": "code",
   "execution_count": null,
   "metadata": {},
   "outputs": [],
   "source": []
  },
  {
   "cell_type": "code",
   "execution_count": null,
   "metadata": {},
   "outputs": [],
   "source": []
  },
  {
   "cell_type": "code",
   "execution_count": null,
   "metadata": {},
   "outputs": [],
   "source": []
  },
  {
   "cell_type": "code",
   "execution_count": null,
   "metadata": {},
   "outputs": [],
   "source": []
  },
  {
   "cell_type": "code",
   "execution_count": null,
   "metadata": {},
   "outputs": [],
   "source": []
  },
  {
   "cell_type": "code",
   "execution_count": null,
   "metadata": {},
   "outputs": [],
   "source": []
  },
  {
   "cell_type": "code",
   "execution_count": null,
   "metadata": {},
   "outputs": [],
   "source": []
  },
  {
   "cell_type": "code",
   "execution_count": null,
   "metadata": {},
   "outputs": [],
   "source": []
  },
  {
   "cell_type": "code",
   "execution_count": null,
   "metadata": {},
   "outputs": [],
   "source": []
  },
  {
   "cell_type": "code",
   "execution_count": null,
   "metadata": {},
   "outputs": [],
   "source": []
  },
  {
   "cell_type": "code",
   "execution_count": null,
   "metadata": {},
   "outputs": [],
   "source": []
  },
  {
   "cell_type": "code",
   "execution_count": null,
   "metadata": {},
   "outputs": [],
   "source": []
  },
  {
   "cell_type": "code",
   "execution_count": null,
   "metadata": {},
   "outputs": [],
   "source": []
  },
  {
   "cell_type": "code",
   "execution_count": null,
   "metadata": {},
   "outputs": [],
   "source": []
  },
  {
   "cell_type": "code",
   "execution_count": null,
   "metadata": {},
   "outputs": [],
   "source": []
  },
  {
   "cell_type": "code",
   "execution_count": null,
   "metadata": {},
   "outputs": [],
   "source": []
  },
  {
   "cell_type": "code",
   "execution_count": null,
   "metadata": {},
   "outputs": [],
   "source": []
  },
  {
   "cell_type": "code",
   "execution_count": null,
   "metadata": {},
   "outputs": [],
   "source": []
  },
  {
   "cell_type": "code",
   "execution_count": null,
   "metadata": {},
   "outputs": [],
   "source": []
  },
  {
   "cell_type": "code",
   "execution_count": null,
   "metadata": {},
   "outputs": [],
   "source": []
  },
  {
   "cell_type": "code",
   "execution_count": null,
   "metadata": {},
   "outputs": [],
   "source": []
  },
  {
   "cell_type": "code",
   "execution_count": null,
   "metadata": {},
   "outputs": [],
   "source": []
  },
  {
   "cell_type": "code",
   "execution_count": null,
   "metadata": {},
   "outputs": [],
   "source": []
  },
  {
   "cell_type": "code",
   "execution_count": null,
   "metadata": {},
   "outputs": [],
   "source": []
  },
  {
   "cell_type": "code",
   "execution_count": null,
   "metadata": {},
   "outputs": [],
   "source": []
  },
  {
   "cell_type": "code",
   "execution_count": null,
   "metadata": {},
   "outputs": [],
   "source": []
  },
  {
   "cell_type": "code",
   "execution_count": null,
   "metadata": {},
   "outputs": [],
   "source": []
  },
  {
   "cell_type": "code",
   "execution_count": null,
   "metadata": {},
   "outputs": [],
   "source": []
  },
  {
   "cell_type": "code",
   "execution_count": null,
   "metadata": {},
   "outputs": [],
   "source": []
  },
  {
   "cell_type": "code",
   "execution_count": null,
   "metadata": {},
   "outputs": [],
   "source": []
  },
  {
   "cell_type": "code",
   "execution_count": null,
   "metadata": {},
   "outputs": [],
   "source": []
  },
  {
   "cell_type": "code",
   "execution_count": null,
   "metadata": {},
   "outputs": [],
   "source": []
  },
  {
   "cell_type": "code",
   "execution_count": null,
   "metadata": {},
   "outputs": [],
   "source": []
  },
  {
   "cell_type": "code",
   "execution_count": null,
   "metadata": {},
   "outputs": [],
   "source": []
  },
  {
   "cell_type": "code",
   "execution_count": null,
   "metadata": {},
   "outputs": [],
   "source": []
  },
  {
   "cell_type": "code",
   "execution_count": null,
   "metadata": {},
   "outputs": [],
   "source": []
  },
  {
   "cell_type": "code",
   "execution_count": null,
   "metadata": {},
   "outputs": [],
   "source": []
  },
  {
   "cell_type": "code",
   "execution_count": null,
   "metadata": {},
   "outputs": [],
   "source": []
  },
  {
   "cell_type": "code",
   "execution_count": null,
   "metadata": {},
   "outputs": [],
   "source": []
  },
  {
   "cell_type": "code",
   "execution_count": null,
   "metadata": {},
   "outputs": [],
   "source": []
  },
  {
   "cell_type": "code",
   "execution_count": null,
   "metadata": {},
   "outputs": [],
   "source": []
  }
 ],
 "metadata": {
  "kernelspec": {
   "display_name": "Python 3",
   "language": "python",
   "name": "python3"
  },
  "language_info": {
   "codemirror_mode": {
    "name": "ipython",
    "version": 3
   },
   "file_extension": ".py",
   "mimetype": "text/x-python",
   "name": "python",
   "nbconvert_exporter": "python",
   "pygments_lexer": "ipython3",
   "version": "3.7.1"
  }
 },
 "nbformat": 4,
 "nbformat_minor": 2
}
