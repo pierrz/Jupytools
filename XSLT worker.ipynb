{
 "cells": [
  {
   "cell_type": "code",
   "execution_count": 2,
   "metadata": {},
   "outputs": [
    {
     "data": {
      "text/plain": [
       "<lxml.etree._XSLTResultTree at 0x108175ee8>"
      ]
     },
     "execution_count": 2,
     "metadata": {},
     "output_type": "execute_result"
    }
   ],
   "source": [
    "from lxml import etree\n",
    "# files\n",
    "xml_filename = '/Users/pierre/Code/+smugglr/test data/fng_raw/fng-data-dc__clean&amp.xml'\n",
    "xsl_filename = '/Users/pierre/Code/+smugglr/test data/fng_raw/fng_artwork_only.xsl'\n",
    "xml_data = etree.parse(xml_filename)\n",
    "xslTemplate = etree.parse(xsl_filename)\n",
    "xml_data.xslt(xslTemplate)"
   ]
  },
  {
   "cell_type": "code",
   "execution_count": null,
   "metadata": {},
   "outputs": [],
   "source": []
  }
 ],
 "metadata": {
  "kernelspec": {
   "display_name": "Python 3",
   "language": "python",
   "name": "python3"
  },
  "language_info": {
   "codemirror_mode": {
    "name": "ipython",
    "version": 3
   },
   "file_extension": ".py",
   "mimetype": "text/x-python",
   "name": "python",
   "nbconvert_exporter": "python",
   "pygments_lexer": "ipython3",
   "version": "3.7.1"
  }
 },
 "nbformat": 4,
 "nbformat_minor": 2
}
