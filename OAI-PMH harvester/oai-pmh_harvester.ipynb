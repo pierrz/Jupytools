{
 "cells": [
  {
   "cell_type": "code",
   "execution_count": 16,
   "metadata": {
    "scrolled": true
   },
   "outputs": [
    {
     "name": "stdout",
     "output_type": "stream",
     "text": [
      "2019-11-15T20:51:34.809025 --> Downloading page 0 ... \n",
      "https://collections.britishart.yale.edu/oaicatmuseum/OAIHandler?verb=ListRecords&metadataPrefix=lido&set=ycba:pd\n",
      "--> Resumption token: 0001-01-01:9999-12-31:ycba%3Apd:500:lido\n",
      "2019-11-15T20:51:56.078661 --> Downloading page 1 ... \n",
      "https://collections.britishart.yale.edu/oaicatmuseum/OAIHandler?verb=ListRecords&metadataPrefix=lido&set=ycba:pd&resumptionToken=0001-01-01:9999-12-31:ycba%3Apd:500:lido\n",
      "Finished or issue ...\n",
      "Error code: badArgument\n",
      "--> The request includes illegal arguments, is missing required arguments, includes a repeated argument, or values for arguments have an illegal syntax.\n",
      "2019-11-15T20:51:56.481334 --> Downloading page 0 ... \n",
      "https://collections.britishart.yale.edu/oaicatmuseum/OAIHandler?verb=ListRecords&metadataPrefix=lido&set=ycba%3Aframes\n",
      "--> Resumption token: 0001-01-01:9999-12-31:ycba%3Aframes:500:lido\n",
      "2019-11-15T20:52:15.947381 --> Downloading page 1 ... \n",
      "https://collections.britishart.yale.edu/oaicatmuseum/OAIHandler?verb=ListRecords&metadataPrefix=lido&set=ycba%3Aframes&resumptionToken=0001-01-01:9999-12-31:ycba%3Aframes:500:lido\n",
      "Finished or issue ...\n",
      "Error code: badArgument\n",
      "--> The request includes illegal arguments, is missing required arguments, includes a repeated argument, or values for arguments have an illegal syntax.\n"
     ]
    }
   ],
   "source": [
    "# Cf. https://www.openarchives.org/OAI/openarchivesprotocol.html#ListRecords\n",
    "import urllib.request as rq\n",
    "from bs4 import BeautifulSoup as bs\n",
    "import os\n",
    "from datetime import datetime\n",
    "\n",
    "                \n",
    "# MAIN PARAMETERS\n",
    "output_dir = os.path.join(os.getcwd(), 'output')\n",
    "baseurl = 'https://collections.britishart.yale.edu/oaicatmuseum/OAIHandler'\n",
    "setspec = ['ycba:pd', 'ycba:ps', 'ycba:frames']\n",
    "metaf = 'lido'\n",
    "\n",
    "\n",
    "def timestamp():\n",
    "    return datetime.utcnow().isoformat()\n",
    "\n",
    "\n",
    "def create_logfile(log_path):\n",
    "    \"\"\"\n",
    "    Creates a (txt) log file\n",
    "    \"\"\"\n",
    "    if os.path.isfile(log_path):\n",
    "        os.remove(log_path)\n",
    "    log_stream = open(log_path, 'w+')\n",
    "    return log_stream\n",
    "\n",
    "\n",
    "def write_to_log(log_path, message):\n",
    "    \"\"\"\n",
    "    Writes to (txt) log file\n",
    "    \"\"\"\n",
    "    with open(log_path, 'a') as log:\n",
    "\n",
    "        if isinstance(message, str):\n",
    "            mes_str = '\\n' + '/!\\\\ ' + message\n",
    "            log.write(mes_str)\n",
    "\n",
    "        elif isinstance(message, list):\n",
    "            mes_main = '\\n' + '/!\\\\ ' + message[0]\n",
    "            log.write(mes_main)\n",
    "            for p in message[1:]:\n",
    "                mes_p = '\\n' + '\\t' + ' - ' + p\n",
    "                log.write(mes_p)\n",
    "\n",
    "                \n",
    "def oaipmh_harvest(baseurl, set_list, data_format, output_dir):\n",
    "    # main variables/directories and log\n",
    "    run_dir = os.path.join(output_dir, timestamp())\n",
    "    data_dir = os.path.join(run_dir, 'data')\n",
    "    log_dir = os.path.join(run_dir, 'log')\n",
    "    log_path = log_dir + '/log.txt'\n",
    "    for f in [run_dir, data_dir, log_dir]:\n",
    "        os.mkdir(f)\n",
    "    \n",
    "    # init log stream\n",
    "    log_stream = create_logfile(log_path)\n",
    "    \n",
    "    # loop to fetch files\n",
    "    for s in set_list:\n",
    "        set_dir = os.path.join(data_dir, s)\n",
    "        os.mkdir(set_dir)\n",
    "        i = 0 \n",
    "        write_to_log(log_path, \"-------- logs : setspec '\" + s +\"' --------\")\n",
    "        # try:\n",
    "        while i >= 0:\n",
    "        # while i == 0:\n",
    "            # rt = str()\n",
    "            filepath = os.path.join(set_dir, 'page_' + str(i) + '.xml')\n",
    "            full_url = baseurl + '?verb=ListRecords&metadataPrefix=' + data_format + '&set=' + s\n",
    " \n",
    "            # print(full_url)\n",
    "            # logs\n",
    "            mes_1 = timestamp() + ' --> Downloading page ' + str(i) + ' ... '\n",
    "            print(mes_1)\n",
    "            mes_11 ='from ' + full_url\n",
    "            mes_111 = 'to   :' + filepath\n",
    "            write_to_log(log_path, [mes_1, mes_11, mes_111])\n",
    "            \n",
    "            # fetch url to file\n",
    "            if i > 0:\n",
    "                full_url += '&resumptionToken=' + rt\n",
    "            print(full_url)\n",
    "            rq.urlretrieve(full_url, filepath)\n",
    "            i += 1\n",
    "            \n",
    "            # get Resumption token\n",
    "            # with open(test_file) as fp: soup = bs(fp, 'xml')\n",
    "            with open(filepath) as fp: soup = bs(fp, 'xml')\n",
    "            rt_data = soup.find_all('resumptionToken')\n",
    "            if len(rt_data) > 0 and i > 0:\n",
    "                rt = rt_data[0].get_text()\n",
    "                mes_2 = '--> Resumption token: ' + rt\n",
    "                write_to_log(log_path, mes_2)\n",
    "                print(mes_2)\n",
    "\n",
    "            # check response if issue\n",
    "            else:\n",
    "                print('Finished or issue ...')\n",
    "                error = soup.find_all('error')\n",
    "                if len(error) > 0:\n",
    "                    mes = 'Error code: ' + error[0]['code'] + '\\n--> ' + error[0].get_text()\n",
    "                    write_to_log(log_path, mes)\n",
    "                    print(mes)\n",
    "\n",
    "                break\n",
    "        # except:\n",
    "  #   print('Finished or issue ...')\n",
    "    log_stream.close()\n",
    "\n",
    "# start harvest\n",
    "oaipmh_harvest(baseurl, setspec, metaf, output_dir)\n"
   ]
  },
  {
   "cell_type": "code",
   "execution_count": null,
   "metadata": {},
   "outputs": [],
   "source": []
  },
  {
   "cell_type": "code",
   "execution_count": null,
   "metadata": {},
   "outputs": [],
   "source": []
  },
  {
   "cell_type": "code",
   "execution_count": null,
   "metadata": {},
   "outputs": [],
   "source": []
  },
  {
   "cell_type": "code",
   "execution_count": null,
   "metadata": {},
   "outputs": [],
   "source": []
  },
  {
   "cell_type": "code",
   "execution_count": null,
   "metadata": {},
   "outputs": [],
   "source": []
  },
  {
   "cell_type": "code",
   "execution_count": null,
   "metadata": {},
   "outputs": [],
   "source": []
  },
  {
   "cell_type": "code",
   "execution_count": null,
   "metadata": {},
   "outputs": [],
   "source": []
  },
  {
   "cell_type": "code",
   "execution_count": null,
   "metadata": {},
   "outputs": [],
   "source": []
  },
  {
   "cell_type": "code",
   "execution_count": null,
   "metadata": {},
   "outputs": [],
   "source": []
  },
  {
   "cell_type": "code",
   "execution_count": null,
   "metadata": {},
   "outputs": [],
   "source": []
  },
  {
   "cell_type": "code",
   "execution_count": null,
   "metadata": {},
   "outputs": [],
   "source": []
  },
  {
   "cell_type": "code",
   "execution_count": null,
   "metadata": {},
   "outputs": [],
   "source": []
  },
  {
   "cell_type": "code",
   "execution_count": null,
   "metadata": {},
   "outputs": [],
   "source": []
  },
  {
   "cell_type": "code",
   "execution_count": null,
   "metadata": {},
   "outputs": [],
   "source": []
  },
  {
   "cell_type": "code",
   "execution_count": null,
   "metadata": {},
   "outputs": [],
   "source": []
  },
  {
   "cell_type": "code",
   "execution_count": null,
   "metadata": {},
   "outputs": [],
   "source": []
  },
  {
   "cell_type": "code",
   "execution_count": null,
   "metadata": {},
   "outputs": [],
   "source": []
  },
  {
   "cell_type": "code",
   "execution_count": null,
   "metadata": {},
   "outputs": [],
   "source": []
  },
  {
   "cell_type": "code",
   "execution_count": null,
   "metadata": {},
   "outputs": [],
   "source": []
  },
  {
   "cell_type": "code",
   "execution_count": null,
   "metadata": {},
   "outputs": [],
   "source": []
  },
  {
   "cell_type": "code",
   "execution_count": null,
   "metadata": {},
   "outputs": [],
   "source": []
  },
  {
   "cell_type": "code",
   "execution_count": null,
   "metadata": {},
   "outputs": [],
   "source": []
  },
  {
   "cell_type": "code",
   "execution_count": null,
   "metadata": {},
   "outputs": [],
   "source": []
  },
  {
   "cell_type": "code",
   "execution_count": null,
   "metadata": {},
   "outputs": [],
   "source": []
  },
  {
   "cell_type": "code",
   "execution_count": null,
   "metadata": {},
   "outputs": [],
   "source": []
  },
  {
   "cell_type": "code",
   "execution_count": null,
   "metadata": {},
   "outputs": [],
   "source": []
  },
  {
   "cell_type": "code",
   "execution_count": null,
   "metadata": {},
   "outputs": [],
   "source": []
  },
  {
   "cell_type": "code",
   "execution_count": null,
   "metadata": {},
   "outputs": [],
   "source": []
  },
  {
   "cell_type": "code",
   "execution_count": null,
   "metadata": {},
   "outputs": [],
   "source": []
  },
  {
   "cell_type": "code",
   "execution_count": null,
   "metadata": {},
   "outputs": [],
   "source": []
  },
  {
   "cell_type": "code",
   "execution_count": null,
   "metadata": {},
   "outputs": [],
   "source": []
  },
  {
   "cell_type": "code",
   "execution_count": null,
   "metadata": {},
   "outputs": [],
   "source": []
  },
  {
   "cell_type": "code",
   "execution_count": null,
   "metadata": {},
   "outputs": [],
   "source": []
  },
  {
   "cell_type": "code",
   "execution_count": null,
   "metadata": {},
   "outputs": [],
   "source": []
  },
  {
   "cell_type": "code",
   "execution_count": null,
   "metadata": {},
   "outputs": [],
   "source": []
  },
  {
   "cell_type": "code",
   "execution_count": null,
   "metadata": {},
   "outputs": [],
   "source": []
  },
  {
   "cell_type": "code",
   "execution_count": null,
   "metadata": {},
   "outputs": [],
   "source": []
  },
  {
   "cell_type": "code",
   "execution_count": null,
   "metadata": {},
   "outputs": [],
   "source": []
  },
  {
   "cell_type": "code",
   "execution_count": null,
   "metadata": {},
   "outputs": [],
   "source": []
  },
  {
   "cell_type": "code",
   "execution_count": null,
   "metadata": {},
   "outputs": [],
   "source": []
  }
 ],
 "metadata": {
  "kernelspec": {
   "display_name": "Python 3",
   "language": "python",
   "name": "python3"
  },
  "language_info": {
   "codemirror_mode": {
    "name": "ipython",
    "version": 3
   },
   "file_extension": ".py",
   "mimetype": "text/x-python",
   "name": "python",
   "nbconvert_exporter": "python",
   "pygments_lexer": "ipython3",
   "version": "3.7.1"
  }
 },
 "nbformat": 4,
 "nbformat_minor": 2
}
