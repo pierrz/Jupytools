{
 "cells": [
  {
   "cell_type": "code",
   "execution_count": 35,
   "metadata": {},
   "outputs": [],
   "source": [
    "# ====================== #\n",
    "# Dependencies\n",
    "import pandas as pd\n",
    "import numpy as np\n",
    "import os, re\n",
    "\n",
    "\n",
    "# ====================== #\n",
    "# main variables\n",
    "# csv_filename = '../../../+ data material/Morgan Stanley Capital I Trust 2019-L2.csv'\n",
    "csv_filename = 'data/Morgan Stanley Capital I Trust 2019-L2.csv'\n",
    "filename = os.path.splitext(os.path.split(csv_filename)[1])[0]\n",
    "outFilename = 'output/' + re.sub(' ', '_', filename) + '.txt'\n",
    "\n",
    "df = pd.read_csv(csv_filename)\n",
    "\n",
    "with open(outFilename, 'a') as file:\n",
    "    for c in pd.unique(df.keys()):\n",
    "        mes = '\\n' + '===  ' + c + '  ===' + '\\n'\n",
    "        distinct_list = df[c].unique()\n",
    "        file.write(mes)\n",
    "\n",
    "        for v in distinct_list.tolist():\n",
    "            str_v = str(v) + '\\n'\n",
    "            file.write(str_v)\n",
    "\n",
    "file.close()\n"
   ]
  },
  {
   "cell_type": "code",
   "execution_count": null,
   "metadata": {},
   "outputs": [],
   "source": []
  },
  {
   "cell_type": "code",
   "execution_count": null,
   "metadata": {},
   "outputs": [],
   "source": []
  },
  {
   "cell_type": "code",
   "execution_count": null,
   "metadata": {},
   "outputs": [],
   "source": []
  },
  {
   "cell_type": "code",
   "execution_count": null,
   "metadata": {},
   "outputs": [],
   "source": []
  },
  {
   "cell_type": "code",
   "execution_count": null,
   "metadata": {},
   "outputs": [],
   "source": []
  },
  {
   "cell_type": "code",
   "execution_count": null,
   "metadata": {},
   "outputs": [],
   "source": []
  }
 ],
 "metadata": {
  "kernelspec": {
   "display_name": "Python 3",
   "language": "python",
   "name": "python3"
  },
  "language_info": {
   "codemirror_mode": {
    "name": "ipython",
    "version": 3
   },
   "file_extension": ".py",
   "mimetype": "text/x-python",
   "name": "python",
   "nbconvert_exporter": "python",
   "pygments_lexer": "ipython3",
   "version": "3.7.3"
  }
 },
 "nbformat": 4,
 "nbformat_minor": 2
}
